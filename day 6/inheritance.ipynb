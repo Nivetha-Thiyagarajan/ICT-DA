{
 "cells": [
  {
   "cell_type": "code",
   "execution_count": 1,
   "metadata": {},
   "outputs": [],
   "source": [
    "class Parent():\n",
    "    def fun(self):\n",
    "        print(\"parent class\")"
   ]
  },
  {
   "cell_type": "code",
   "execution_count": 2,
   "metadata": {},
   "outputs": [],
   "source": [
    "class Child(Parent):\n",
    "    def func1(self):\n",
    "        print(\"child calss\")"
   ]
  },
  {
   "cell_type": "code",
   "execution_count": 3,
   "metadata": {},
   "outputs": [],
   "source": [
    "c1 = Child()"
   ]
  },
  {
   "cell_type": "code",
   "execution_count": 4,
   "metadata": {},
   "outputs": [
    {
     "name": "stdout",
     "output_type": "stream",
     "text": [
      "child calss\n"
     ]
    }
   ],
   "source": [
    "c1.func1()"
   ]
  },
  {
   "cell_type": "code",
   "execution_count": 5,
   "metadata": {},
   "outputs": [
    {
     "name": "stdout",
     "output_type": "stream",
     "text": [
      "parent class\n"
     ]
    }
   ],
   "source": [
    "c1.fun()"
   ]
  },
  {
   "cell_type": "code",
   "execution_count": 6,
   "metadata": {},
   "outputs": [],
   "source": [
    "class Mother:\n",
    "    mothername = \"\"\n",
    "    def mother(self):\n",
    "        print(self.mothername)\n",
    "class Father:\n",
    "    fathername = \"\"\n",
    "    def father(self):\n",
    "        print(self.fathername)"
   ]
  },
  {
   "cell_type": "code",
   "execution_count": 11,
   "metadata": {},
   "outputs": [],
   "source": [
    "class son(Mother,Father):\n",
    "    def parents(self):\n",
    "        print(\"father:\", self.fathername)\n",
    "        print(\"mother:\",self.mothername)\n"
   ]
  },
  {
   "cell_type": "code",
   "execution_count": 13,
   "metadata": {},
   "outputs": [
    {
     "name": "stdout",
     "output_type": "stream",
     "text": [
      "father: RAM\n",
      "mother: SITA\n"
     ]
    }
   ],
   "source": [
    "s1 = son()\n",
    "s1.fathername = \"RAM\"\n",
    "s1.mothername = \"SITA\"\n",
    "s1.parents()\n"
   ]
  },
  {
   "cell_type": "code",
   "execution_count": 25,
   "metadata": {},
   "outputs": [],
   "source": [
    "class Name:\n",
    "    myname = \"\"\n",
    "    def Name(self):\n",
    "        print(self.myname)\n",
    "class collegename:\n",
    "    mycollegename = \"\"\n",
    "    def collegename(self):\n",
    "        print(self.mycollegename)"
   ]
  },
  {
   "cell_type": "code",
   "execution_count": 26,
   "metadata": {},
   "outputs": [],
   "source": [
    "class work():\n",
    "    def college(self):\n",
    "        print(\"Name:\",self.myname)\n",
    "        print(\"collegename:\",self.mycollegename)"
   ]
  },
  {
   "cell_type": "code",
   "execution_count": 28,
   "metadata": {},
   "outputs": [
    {
     "name": "stdout",
     "output_type": "stream",
     "text": [
      "Name: Nivetha\n",
      "collegename: saranathan college of engineering\n"
     ]
    }
   ],
   "source": [
    "s1=work()\n",
    "s1.myname=\"Nivetha\"\n",
    "s1.mycollegename=\"saranathan college of engineering\"\n",
    "s1.college()"
   ]
  },
  {
   "cell_type": "code",
   "execution_count": 29,
   "metadata": {},
   "outputs": [],
   "source": [
    "class Mother:\n",
    "    mothername = \"\"\n",
    "    def mother(self):\n",
    "        print(self.mothername)\n",
    "class Father:\n",
    "    fathername = \"\"\n",
    "    def father(self):\n",
    "        print(self.fathername)"
   ]
  },
  {
   "cell_type": "code",
   "execution_count": 30,
   "metadata": {},
   "outputs": [],
   "source": [
    "class son(Mother,Father):\n",
    "    def parents(self):\n",
    "        print(\"father:\", self.fathername)\n",
    "        print(\"mother:\",self.mothername)"
   ]
  },
  {
   "cell_type": "code",
   "execution_count": 31,
   "metadata": {},
   "outputs": [
    {
     "name": "stdout",
     "output_type": "stream",
     "text": [
      "father: Thiyagarajan\n",
      "mother: Anandhi\n"
     ]
    }
   ],
   "source": [
    "s1 = son()\n",
    "s1.fathername = \"Thiyagarajan\"\n",
    "s1.mothername = \"Anandhi\"\n",
    "s1.parents()\n"
   ]
  },
  {
   "cell_type": "code",
   "execution_count": 33,
   "metadata": {},
   "outputs": [
    {
     "name": "stdout",
     "output_type": "stream",
     "text": [
      "(12,16)\n"
     ]
    }
   ],
   "source": [
    "class Example:\n",
    "    def __init__(self, a, b):\n",
    "        self.a = a\n",
    "        self.b = b\n",
    "\n",
    "    def __str__(self):\n",
    "        return \"({0},{1})\".format(self.a, self.b)\n",
    "\n",
    "    def __iadd__(self, other):\n",
    "        self.a += other.a\n",
    "        self.b += other.b\n",
    "        return self\n",
    "\n",
    "obj1 = Example(4, 6)\n",
    "obj2 = Example(8, 10)\n",
    "obj2 += obj1\n",
    "print(obj2)"
   ]
  },
  {
   "cell_type": "code",
   "execution_count": 35,
   "metadata": {},
   "outputs": [
    {
     "name": "stdout",
     "output_type": "stream",
     "text": [
      "(44, 34)\n"
     ]
    }
   ],
   "source": [
    "class complex_1:\n",
    "    def __init__(self, X, Y):\n",
    "        self.X = X\n",
    "        self.Y = Y\n",
    "\n",
    "    def __add__(self, U):\n",
    "        return complex_1(self.X + U.X, self.Y + U.Y)\n",
    "\n",
    "    def __str__(self):\n",
    "        return f\"({self.X}, {self.Y})\"\n",
    "\n",
    "Object_1 = complex_1(23, 12)\n",
    "Object_2 = complex_1(21, 22)\n",
    "Object_3 = Object_1 + Object_2\n",
    "print(Object_3)"
   ]
  },
  {
   "cell_type": "code",
   "execution_count": 38,
   "metadata": {},
   "outputs": [],
   "source": [
    "class Animal:\n",
    "    multicellular = True\n",
    "    eukaryotic = True\n",
    "\n",
    "    def breathe(all):\n",
    "        print(\"I breathe oxygen.\")\n",
    "\t\t\n",
    "    def feed(all):\n",
    "        print(\"I eat food.\")\n",
    "\n",
    "class Herbivorous(Animal):\n",
    "    def feed(all):\n",
    "        print(\"I eat only plants. I am vegetarian.\")\n"
   ]
  },
  {
   "cell_type": "code",
   "execution_count": 39,
   "metadata": {},
   "outputs": [
    {
     "name": "stdout",
     "output_type": "stream",
     "text": [
      "I eat only plants. I am vegetarian.\n",
      "I breathe oxygen.\n"
     ]
    }
   ],
   "source": [
    "herbi = Herbivorous()\n",
    "herbi.feed()\n",
    "herbi.breathe()"
   ]
  },
  {
   "cell_type": "code",
   "execution_count": 40,
   "metadata": {},
   "outputs": [
    {
     "name": "stdout",
     "output_type": "stream",
     "text": [
      "I eat food.\n"
     ]
    }
   ],
   "source": [
    "herbi = Animal()\n",
    "herbi.feed()"
   ]
  },
  {
   "cell_type": "code",
   "execution_count": 44,
   "metadata": {},
   "outputs": [],
   "source": [
    "class School:\n",
    "     def func1(self):\n",
    "         print(\"This function is in school.\")\n",
    "     def func3(self):\n",
    "          print(\"hello\")\n",
    "     def fun1(self):\n",
    "          print(\"hi\")\n",
    "class Student1(School):\n",
    "     def func2(self):\n",
    "         print(\"This function is in student 1. \")\n",
    "class Student2(School):\n",
    "     def func3(self):\n",
    "         print(\"This function is in student 2.\")\n",
    "class Student3(Student1, School):\n",
    "     def func4(self):\n",
    "         print(\"This function is in student 3.\")\n"
   ]
  },
  {
   "cell_type": "code",
   "execution_count": 45,
   "metadata": {},
   "outputs": [
    {
     "name": "stdout",
     "output_type": "stream",
     "text": [
      "This function is in student 1. \n"
     ]
    }
   ],
   "source": [
    "s1=Student1()\n",
    "s1.func2()\n"
   ]
  },
  {
   "cell_type": "code",
   "execution_count": 46,
   "metadata": {},
   "outputs": [
    {
     "name": "stdout",
     "output_type": "stream",
     "text": [
      "hi\n"
     ]
    }
   ],
   "source": [
    "s1=School()\n",
    "s1.fun1()"
   ]
  },
  {
   "cell_type": "code",
   "execution_count": null,
   "metadata": {},
   "outputs": [],
   "source": []
  }
 ],
 "metadata": {
  "kernelspec": {
   "display_name": "Python 3",
   "language": "python",
   "name": "python3"
  },
  "language_info": {
   "codemirror_mode": {
    "name": "ipython",
    "version": 3
   },
   "file_extension": ".py",
   "mimetype": "text/x-python",
   "name": "python",
   "nbconvert_exporter": "python",
   "pygments_lexer": "ipython3",
   "version": "3.9.6"
  }
 },
 "nbformat": 4,
 "nbformat_minor": 2
}
